{
 "cells": [
  {
   "cell_type": "markdown",
   "metadata": {
    "id": "wEji18KDhynj"
   },
   "source": [
    "#Spaceship Titanic Challange"
   ]
  },
  {
   "cell_type": "markdown",
   "metadata": {
    "id": "klnkm3-Oh_Xe"
   },
   "source": [
    "## Data"
   ]
  },
  {
   "cell_type": "markdown",
   "metadata": {
    "id": "ljLYLVoBiBpm"
   },
   "source": [
    "### Get data"
   ]
  },
  {
   "cell_type": "code",
   "source": [
    "#import custom libary\n",
    "!rm tf_helper*\n",
    "!wget https://raw.githubusercontent.com/Til-Widmann/helper/main/tf_helper.py\n",
    "from tf_helper import *"
   ],
   "metadata": {
    "colab": {
     "base_uri": "https://localhost:8080/"
    },
    "id": "GcfarEJXHnqe",
    "outputId": "e656e426-acc5-4686-e446-f29053d0dc21"
   },
   "execution_count": null,
   "outputs": [
    {
     "output_type": "stream",
     "name": "stdout",
     "text": [
      "rm: cannot remove 'tf_helper*': No such file or directory\n",
      "--2023-10-30 11:51:55--  https://raw.githubusercontent.com/Til-Widmann/helper/main/tf_helper.py\n",
      "Resolving raw.githubusercontent.com (raw.githubusercontent.com)... 185.199.108.133, 185.199.109.133, 185.199.110.133, ...\n",
      "Connecting to raw.githubusercontent.com (raw.githubusercontent.com)|185.199.108.133|:443... connected.\n",
      "HTTP request sent, awaiting response... 200 OK\n",
      "Length: 7562 (7.4K) [text/plain]\n",
      "Saving to: ‘tf_helper.py’\n",
      "\n",
      "tf_helper.py        100%[===================>]   7.38K  --.-KB/s    in 0s      \n",
      "\n",
      "2023-10-30 11:51:56 (59.8 MB/s) - ‘tf_helper.py’ saved [7562/7562]\n"
     ]
    }
   ]
  },
  {
   "cell_type": "code",
   "execution_count": null,
   "metadata": {
    "colab": {
     "base_uri": "https://localhost:8080/"
    },
    "id": "7XhUcuFSiEMw",
    "outputId": "d215de0e-8c45-4441-d923-594ba89c9ffc"
   },
   "outputs": [
    {
     "output_type": "stream",
     "name": "stdout",
     "text": [
      "Drive already mounted at /content/drive; to attempt to forcibly remount, call drive.mount(\"/content/drive\", force_remount=True).\n"
     ]
    }
   ],
   "source": [
    "import tensorflow as tf\n",
    "import pandas as pd\n",
    "import numpy as np\n",
    "import matplotlib.pyplot as plt\n",
    "import seaborn as sns\n",
    "\n",
    "# Load the Drive helper and mount\n",
    "from google.colab import drive\n",
    "drive.mount('/content/drive')"
   ]
  },
  {
   "cell_type": "code",
   "execution_count": null,
   "metadata": {
    "id": "wDkVZQGwiwa3"
   },
   "outputs": [],
   "source": [
    "vanilla_df = pd.read_csv(\"/content/drive/MyDrive/Colab/Kagle/spaceship-titanic/train.csv\")\n",
    "vanilla_df.head(7)\n",
    "full_df= vanilla_df.copy()"
   ]
  },
  {
   "cell_type": "markdown",
   "source": [
    "### Visualizing and trying to preprocess"
   ],
   "metadata": {
    "id": "W2PZwUVT-40Y"
   }
  },
  {
   "cell_type": "code",
   "source": [
    "full_df[[\"Deck\", \"Cabin_num\", \"Side\"]] = full_df[\"Cabin\"].str.split(\"/\", expand=True)"
   ],
   "metadata": {
    "id": "-jtvtqg70LHR"
   },
   "execution_count": null,
   "outputs": []
  },
  {
   "cell_type": "code",
   "source": [
    "full_df = full_df.drop([\"PassengerId\", \"Name\"], axis=1)\n",
    "full_df"
   ],
   "metadata": {
    "colab": {
     "base_uri": "https://localhost:8080/",
     "height": 456
    },
    "id": "avHTpZqZ03lu",
    "outputId": "e17cb2d0-9a45-430b-e68e-e8d32edad16e"
   },
   "execution_count": null,
   "outputs": [
    {
     "output_type": "execute_result",
     "data": {
      "text/plain": [
       "     HomePlanet CryoSleep     Cabin    Destination   Age    VIP  RoomService  \\\n",
       "0        Europa     False     B/0/P    TRAPPIST-1e  39.0  False          0.0   \n",
       "1         Earth     False     F/0/S    TRAPPIST-1e  24.0  False        109.0   \n",
       "2        Europa     False     A/0/S    TRAPPIST-1e  58.0   True         43.0   \n",
       "3        Europa     False     A/0/S    TRAPPIST-1e  33.0  False          0.0   \n",
       "4         Earth     False     F/1/S    TRAPPIST-1e  16.0  False        303.0   \n",
       "...         ...       ...       ...            ...   ...    ...          ...   \n",
       "8688     Europa     False    A/98/P    55 Cancri e  41.0   True          0.0   \n",
       "8689      Earth      True  G/1499/S  PSO J318.5-22  18.0  False          0.0   \n",
       "8690      Earth     False  G/1500/S    TRAPPIST-1e  26.0  False          0.0   \n",
       "8691     Europa     False   E/608/S    55 Cancri e  32.0  False          0.0   \n",
       "8692     Europa     False   E/608/S    TRAPPIST-1e  44.0  False        126.0   \n",
       "\n",
       "      FoodCourt  ShoppingMall     Spa  VRDeck  Transported Deck Cabin_num Side  \n",
       "0           0.0           0.0     0.0     0.0        False    B         0    P  \n",
       "1           9.0          25.0   549.0    44.0         True    F         0    S  \n",
       "2        3576.0           0.0  6715.0    49.0        False    A         0    S  \n",
       "3        1283.0         371.0  3329.0   193.0        False    A         0    S  \n",
       "4          70.0         151.0   565.0     2.0         True    F         1    S  \n",
       "...         ...           ...     ...     ...          ...  ...       ...  ...  \n",
       "8688     6819.0           0.0  1643.0    74.0        False    A        98    P  \n",
       "8689        0.0           0.0     0.0     0.0        False    G      1499    S  \n",
       "8690        0.0        1872.0     1.0     0.0         True    G      1500    S  \n",
       "8691     1049.0           0.0   353.0  3235.0        False    E       608    S  \n",
       "8692     4688.0           0.0     0.0    12.0         True    E       608    S  \n",
       "\n",
       "[8693 rows x 15 columns]"
      ],
      "text/html": [
       "\n",
       "  <div id=\"df-49babfcc-905c-46d6-bd74-c39358fdb9b6\" class=\"colab-df-container\">\n",
       "    <div>\n",
       "<style scoped>\n",
       "    .dataframe tbody tr th:only-of-type {\n",
       "        vertical-align: middle;\n",
       "    }\n",
       "\n",
       "    .dataframe tbody tr th {\n",
       "        vertical-align: top;\n",
       "    }\n",
       "\n",
       "    .dataframe thead th {\n",
       "        text-align: right;\n",
       "    }\n",
       "</style>\n",
       "<table border=\"1\" class=\"dataframe\">\n",
       "  <thead>\n",
       "    <tr style=\"text-align: right;\">\n",
       "      <th></th>\n",
       "      <th>HomePlanet</th>\n",
       "      <th>CryoSleep</th>\n",
       "      <th>Cabin</th>\n",
       "      <th>Destination</th>\n",
       "      <th>Age</th>\n",
       "      <th>VIP</th>\n",
       "      <th>RoomService</th>\n",
       "      <th>FoodCourt</th>\n",
       "      <th>ShoppingMall</th>\n",
       "      <th>Spa</th>\n",
       "      <th>VRDeck</th>\n",
       "      <th>Transported</th>\n",
       "      <th>Deck</th>\n",
       "      <th>Cabin_num</th>\n",
       "      <th>Side</th>\n",
       "    </tr>\n",
       "  </thead>\n",
       "  <tbody>\n",
       "    <tr>\n",
       "      <th>0</th>\n",
       "      <td>Europa</td>\n",
       "      <td>False</td>\n",
       "      <td>B/0/P</td>\n",
       "      <td>TRAPPIST-1e</td>\n",
       "      <td>39.0</td>\n",
       "      <td>False</td>\n",
       "      <td>0.0</td>\n",
       "      <td>0.0</td>\n",
       "      <td>0.0</td>\n",
       "      <td>0.0</td>\n",
       "      <td>0.0</td>\n",
       "      <td>False</td>\n",
       "      <td>B</td>\n",
       "      <td>0</td>\n",
       "      <td>P</td>\n",
       "    </tr>\n",
       "    <tr>\n",
       "      <th>1</th>\n",
       "      <td>Earth</td>\n",
       "      <td>False</td>\n",
       "      <td>F/0/S</td>\n",
       "      <td>TRAPPIST-1e</td>\n",
       "      <td>24.0</td>\n",
       "      <td>False</td>\n",
       "      <td>109.0</td>\n",
       "      <td>9.0</td>\n",
       "      <td>25.0</td>\n",
       "      <td>549.0</td>\n",
       "      <td>44.0</td>\n",
       "      <td>True</td>\n",
       "      <td>F</td>\n",
       "      <td>0</td>\n",
       "      <td>S</td>\n",
       "    </tr>\n",
       "    <tr>\n",
       "      <th>2</th>\n",
       "      <td>Europa</td>\n",
       "      <td>False</td>\n",
       "      <td>A/0/S</td>\n",
       "      <td>TRAPPIST-1e</td>\n",
       "      <td>58.0</td>\n",
       "      <td>True</td>\n",
       "      <td>43.0</td>\n",
       "      <td>3576.0</td>\n",
       "      <td>0.0</td>\n",
       "      <td>6715.0</td>\n",
       "      <td>49.0</td>\n",
       "      <td>False</td>\n",
       "      <td>A</td>\n",
       "      <td>0</td>\n",
       "      <td>S</td>\n",
       "    </tr>\n",
       "    <tr>\n",
       "      <th>3</th>\n",
       "      <td>Europa</td>\n",
       "      <td>False</td>\n",
       "      <td>A/0/S</td>\n",
       "      <td>TRAPPIST-1e</td>\n",
       "      <td>33.0</td>\n",
       "      <td>False</td>\n",
       "      <td>0.0</td>\n",
       "      <td>1283.0</td>\n",
       "      <td>371.0</td>\n",
       "      <td>3329.0</td>\n",
       "      <td>193.0</td>\n",
       "      <td>False</td>\n",
       "      <td>A</td>\n",
       "      <td>0</td>\n",
       "      <td>S</td>\n",
       "    </tr>\n",
       "    <tr>\n",
       "      <th>4</th>\n",
       "      <td>Earth</td>\n",
       "      <td>False</td>\n",
       "      <td>F/1/S</td>\n",
       "      <td>TRAPPIST-1e</td>\n",
       "      <td>16.0</td>\n",
       "      <td>False</td>\n",
       "      <td>303.0</td>\n",
       "      <td>70.0</td>\n",
       "      <td>151.0</td>\n",
       "      <td>565.0</td>\n",
       "      <td>2.0</td>\n",
       "      <td>True</td>\n",
       "      <td>F</td>\n",
       "      <td>1</td>\n",
       "      <td>S</td>\n",
       "    </tr>\n",
       "    <tr>\n",
       "      <th>...</th>\n",
       "      <td>...</td>\n",
       "      <td>...</td>\n",
       "      <td>...</td>\n",
       "      <td>...</td>\n",
       "      <td>...</td>\n",
       "      <td>...</td>\n",
       "      <td>...</td>\n",
       "      <td>...</td>\n",
       "      <td>...</td>\n",
       "      <td>...</td>\n",
       "      <td>...</td>\n",
       "      <td>...</td>\n",
       "      <td>...</td>\n",
       "      <td>...</td>\n",
       "      <td>...</td>\n",
       "    </tr>\n",
       "    <tr>\n",
       "      <th>8688</th>\n",
       "      <td>Europa</td>\n",
       "      <td>False</td>\n",
       "      <td>A/98/P</td>\n",
       "      <td>55 Cancri e</td>\n",
       "      <td>41.0</td>\n",
       "      <td>True</td>\n",
       "      <td>0.0</td>\n",
       "      <td>6819.0</td>\n",
       "      <td>0.0</td>\n",
       "      <td>1643.0</td>\n",
       "      <td>74.0</td>\n",
       "      <td>False</td>\n",
       "      <td>A</td>\n",
       "      <td>98</td>\n",
       "      <td>P</td>\n",
       "    </tr>\n",
       "    <tr>\n",
       "      <th>8689</th>\n",
       "      <td>Earth</td>\n",
       "      <td>True</td>\n",
       "      <td>G/1499/S</td>\n",
       "      <td>PSO J318.5-22</td>\n",
       "      <td>18.0</td>\n",
       "      <td>False</td>\n",
       "      <td>0.0</td>\n",
       "      <td>0.0</td>\n",
       "      <td>0.0</td>\n",
       "      <td>0.0</td>\n",
       "      <td>0.0</td>\n",
       "      <td>False</td>\n",
       "      <td>G</td>\n",
       "      <td>1499</td>\n",
       "      <td>S</td>\n",
       "    </tr>\n",
       "    <tr>\n",
       "      <th>8690</th>\n",
       "      <td>Earth</td>\n",
       "      <td>False</td>\n",
       "      <td>G/1500/S</td>\n",
       "      <td>TRAPPIST-1e</td>\n",
       "      <td>26.0</td>\n",
       "      <td>False</td>\n",
       "      <td>0.0</td>\n",
       "      <td>0.0</td>\n",
       "      <td>1872.0</td>\n",
       "      <td>1.0</td>\n",
       "      <td>0.0</td>\n",
       "      <td>True</td>\n",
       "      <td>G</td>\n",
       "      <td>1500</td>\n",
       "      <td>S</td>\n",
       "    </tr>\n",
       "    <tr>\n",
       "      <th>8691</th>\n",
       "      <td>Europa</td>\n",
       "      <td>False</td>\n",
       "      <td>E/608/S</td>\n",
       "      <td>55 Cancri e</td>\n",
       "      <td>32.0</td>\n",
       "      <td>False</td>\n",
       "      <td>0.0</td>\n",
       "      <td>1049.0</td>\n",
       "      <td>0.0</td>\n",
       "      <td>353.0</td>\n",
       "      <td>3235.0</td>\n",
       "      <td>False</td>\n",
       "      <td>E</td>\n",
       "      <td>608</td>\n",
       "      <td>S</td>\n",
       "    </tr>\n",
       "    <tr>\n",
       "      <th>8692</th>\n",
       "      <td>Europa</td>\n",
       "      <td>False</td>\n",
       "      <td>E/608/S</td>\n",
       "      <td>TRAPPIST-1e</td>\n",
       "      <td>44.0</td>\n",
       "      <td>False</td>\n",
       "      <td>126.0</td>\n",
       "      <td>4688.0</td>\n",
       "      <td>0.0</td>\n",
       "      <td>0.0</td>\n",
       "      <td>12.0</td>\n",
       "      <td>True</td>\n",
       "      <td>E</td>\n",
       "      <td>608</td>\n",
       "      <td>S</td>\n",
       "    </tr>\n",
       "  </tbody>\n",
       "</table>\n",
       "<p>8693 rows × 15 columns</p>\n",
       "</div>\n",
       "    <div class=\"colab-df-buttons\">\n",
       "\n",
       "  <div class=\"colab-df-container\">\n",
       "    <button class=\"colab-df-convert\" onclick=\"convertToInteractive('df-49babfcc-905c-46d6-bd74-c39358fdb9b6')\"\n",
       "            title=\"Convert this dataframe to an interactive table.\"\n",
       "            style=\"display:none;\">\n",
       "\n",
       "  <svg xmlns=\"http://www.w3.org/2000/svg\" height=\"24px\" viewBox=\"0 -960 960 960\">\n",
       "    <path d=\"M120-120v-720h720v720H120Zm60-500h600v-160H180v160Zm220 220h160v-160H400v160Zm0 220h160v-160H400v160ZM180-400h160v-160H180v160Zm440 0h160v-160H620v160ZM180-180h160v-160H180v160Zm440 0h160v-160H620v160Z\"/>\n",
       "  </svg>\n",
       "    </button>\n",
       "\n",
       "  <style>\n",
       "    .colab-df-container {\n",
       "      display:flex;\n",
       "      gap: 12px;\n",
       "    }\n",
       "\n",
       "    .colab-df-convert {\n",
       "      background-color: #E8F0FE;\n",
       "      border: none;\n",
       "      border-radius: 50%;\n",
       "      cursor: pointer;\n",
       "      display: none;\n",
       "      fill: #1967D2;\n",
       "      height: 32px;\n",
       "      padding: 0 0 0 0;\n",
       "      width: 32px;\n",
       "    }\n",
       "\n",
       "    .colab-df-convert:hover {\n",
       "      background-color: #E2EBFA;\n",
       "      box-shadow: 0px 1px 2px rgba(60, 64, 67, 0.3), 0px 1px 3px 1px rgba(60, 64, 67, 0.15);\n",
       "      fill: #174EA6;\n",
       "    }\n",
       "\n",
       "    .colab-df-buttons div {\n",
       "      margin-bottom: 4px;\n",
       "    }\n",
       "\n",
       "    [theme=dark] .colab-df-convert {\n",
       "      background-color: #3B4455;\n",
       "      fill: #D2E3FC;\n",
       "    }\n",
       "\n",
       "    [theme=dark] .colab-df-convert:hover {\n",
       "      background-color: #434B5C;\n",
       "      box-shadow: 0px 1px 3px 1px rgba(0, 0, 0, 0.15);\n",
       "      filter: drop-shadow(0px 1px 2px rgba(0, 0, 0, 0.3));\n",
       "      fill: #FFFFFF;\n",
       "    }\n",
       "  </style>\n",
       "\n",
       "    <script>\n",
       "      const buttonEl =\n",
       "        document.querySelector('#df-49babfcc-905c-46d6-bd74-c39358fdb9b6 button.colab-df-convert');\n",
       "      buttonEl.style.display =\n",
       "        google.colab.kernel.accessAllowed ? 'block' : 'none';\n",
       "\n",
       "      async function convertToInteractive(key) {\n",
       "        const element = document.querySelector('#df-49babfcc-905c-46d6-bd74-c39358fdb9b6');\n",
       "        const dataTable =\n",
       "          await google.colab.kernel.invokeFunction('convertToInteractive',\n",
       "                                                    [key], {});\n",
       "        if (!dataTable) return;\n",
       "\n",
       "        const docLinkHtml = 'Like what you see? Visit the ' +\n",
       "          '<a target=\"_blank\" href=https://colab.research.google.com/notebooks/data_table.ipynb>data table notebook</a>'\n",
       "          + ' to learn more about interactive tables.';\n",
       "        element.innerHTML = '';\n",
       "        dataTable['output_type'] = 'display_data';\n",
       "        await google.colab.output.renderOutput(dataTable, element);\n",
       "        const docLink = document.createElement('div');\n",
       "        docLink.innerHTML = docLinkHtml;\n",
       "        element.appendChild(docLink);\n",
       "      }\n",
       "    </script>\n",
       "  </div>\n",
       "\n",
       "\n",
       "<div id=\"df-48ea3807-0eb6-498a-8995-d73d1a885e65\">\n",
       "  <button class=\"colab-df-quickchart\" onclick=\"quickchart('df-48ea3807-0eb6-498a-8995-d73d1a885e65')\"\n",
       "            title=\"Suggest charts.\"\n",
       "            style=\"display:none;\">\n",
       "\n",
       "<svg xmlns=\"http://www.w3.org/2000/svg\" height=\"24px\"viewBox=\"0 0 24 24\"\n",
       "     width=\"24px\">\n",
       "    <g>\n",
       "        <path d=\"M19 3H5c-1.1 0-2 .9-2 2v14c0 1.1.9 2 2 2h14c1.1 0 2-.9 2-2V5c0-1.1-.9-2-2-2zM9 17H7v-7h2v7zm4 0h-2V7h2v10zm4 0h-2v-4h2v4z\"/>\n",
       "    </g>\n",
       "</svg>\n",
       "  </button>\n",
       "\n",
       "<style>\n",
       "  .colab-df-quickchart {\n",
       "      --bg-color: #E8F0FE;\n",
       "      --fill-color: #1967D2;\n",
       "      --hover-bg-color: #E2EBFA;\n",
       "      --hover-fill-color: #174EA6;\n",
       "      --disabled-fill-color: #AAA;\n",
       "      --disabled-bg-color: #DDD;\n",
       "  }\n",
       "\n",
       "  [theme=dark] .colab-df-quickchart {\n",
       "      --bg-color: #3B4455;\n",
       "      --fill-color: #D2E3FC;\n",
       "      --hover-bg-color: #434B5C;\n",
       "      --hover-fill-color: #FFFFFF;\n",
       "      --disabled-bg-color: #3B4455;\n",
       "      --disabled-fill-color: #666;\n",
       "  }\n",
       "\n",
       "  .colab-df-quickchart {\n",
       "    background-color: var(--bg-color);\n",
       "    border: none;\n",
       "    border-radius: 50%;\n",
       "    cursor: pointer;\n",
       "    display: none;\n",
       "    fill: var(--fill-color);\n",
       "    height: 32px;\n",
       "    padding: 0;\n",
       "    width: 32px;\n",
       "  }\n",
       "\n",
       "  .colab-df-quickchart:hover {\n",
       "    background-color: var(--hover-bg-color);\n",
       "    box-shadow: 0 1px 2px rgba(60, 64, 67, 0.3), 0 1px 3px 1px rgba(60, 64, 67, 0.15);\n",
       "    fill: var(--button-hover-fill-color);\n",
       "  }\n",
       "\n",
       "  .colab-df-quickchart-complete:disabled,\n",
       "  .colab-df-quickchart-complete:disabled:hover {\n",
       "    background-color: var(--disabled-bg-color);\n",
       "    fill: var(--disabled-fill-color);\n",
       "    box-shadow: none;\n",
       "  }\n",
       "\n",
       "  .colab-df-spinner {\n",
       "    border: 2px solid var(--fill-color);\n",
       "    border-color: transparent;\n",
       "    border-bottom-color: var(--fill-color);\n",
       "    animation:\n",
       "      spin 1s steps(1) infinite;\n",
       "  }\n",
       "\n",
       "  @keyframes spin {\n",
       "    0% {\n",
       "      border-color: transparent;\n",
       "      border-bottom-color: var(--fill-color);\n",
       "      border-left-color: var(--fill-color);\n",
       "    }\n",
       "    20% {\n",
       "      border-color: transparent;\n",
       "      border-left-color: var(--fill-color);\n",
       "      border-top-color: var(--fill-color);\n",
       "    }\n",
       "    30% {\n",
       "      border-color: transparent;\n",
       "      border-left-color: var(--fill-color);\n",
       "      border-top-color: var(--fill-color);\n",
       "      border-right-color: var(--fill-color);\n",
       "    }\n",
       "    40% {\n",
       "      border-color: transparent;\n",
       "      border-right-color: var(--fill-color);\n",
       "      border-top-color: var(--fill-color);\n",
       "    }\n",
       "    60% {\n",
       "      border-color: transparent;\n",
       "      border-right-color: var(--fill-color);\n",
       "    }\n",
       "    80% {\n",
       "      border-color: transparent;\n",
       "      border-right-color: var(--fill-color);\n",
       "      border-bottom-color: var(--fill-color);\n",
       "    }\n",
       "    90% {\n",
       "      border-color: transparent;\n",
       "      border-bottom-color: var(--fill-color);\n",
       "    }\n",
       "  }\n",
       "</style>\n",
       "\n",
       "  <script>\n",
       "    async function quickchart(key) {\n",
       "      const quickchartButtonEl =\n",
       "        document.querySelector('#' + key + ' button');\n",
       "      quickchartButtonEl.disabled = true;  // To prevent multiple clicks.\n",
       "      quickchartButtonEl.classList.add('colab-df-spinner');\n",
       "      try {\n",
       "        const charts = await google.colab.kernel.invokeFunction(\n",
       "            'suggestCharts', [key], {});\n",
       "      } catch (error) {\n",
       "        console.error('Error during call to suggestCharts:', error);\n",
       "      }\n",
       "      quickchartButtonEl.classList.remove('colab-df-spinner');\n",
       "      quickchartButtonEl.classList.add('colab-df-quickchart-complete');\n",
       "    }\n",
       "    (() => {\n",
       "      let quickchartButtonEl =\n",
       "        document.querySelector('#df-48ea3807-0eb6-498a-8995-d73d1a885e65 button');\n",
       "      quickchartButtonEl.style.display =\n",
       "        google.colab.kernel.accessAllowed ? 'block' : 'none';\n",
       "    })();\n",
       "  </script>\n",
       "</div>\n",
       "    </div>\n",
       "  </div>\n"
      ]
     },
     "metadata": {},
     "execution_count": 180
    }
   ]
  },
  {
   "cell_type": "code",
   "execution_count": null,
   "metadata": {
    "colab": {
     "base_uri": "https://localhost:8080/",
     "height": 472
    },
    "id": "I7mJBN0FkMvW",
    "outputId": "d137f6c6-6f15-4a5a-ebf3-1dbda53d1bad"
   },
   "outputs": [
    {
     "output_type": "display_data",
     "data": {
      "text/plain": [
       "<Figure size 640x480 with 1 Axes>"
      ],
      "image/png": "[encoded data removed]"
     },
     "metadata": {}
    }
   ],
   "source": [
    "sns.countplot(x='Transported', hue='CryoSleep', data=full_df)\n",
    "plt.title('Influence of parameter1 on is_influenced')\n",
    "plt.show()"
   ]
  },
  {
   "cell_type": "code",
   "execution_count": null,
   "metadata": {
    "id": "KXhpWgFQmcVw",
    "colab": {
     "base_uri": "https://localhost:8080/",
     "height": 472
    },
    "outputId": "e10db5ab-863b-4677-ea26-e12868ed1013"
   },
   "outputs": [
    {
     "output_type": "display_data",
     "data": {
      "text/plain": [
       "<Figure size 640x480 with 1 Axes>"
      ],
      "image/png": "[encoded data removed]"
     },
     "metadata": {}
    }
   ],
   "source": [
    "sns.countplot(x='Transported', hue='VIP', data=full_df)\n",
    "plt.title('Influence of parameter1 on is_influenced')\n",
    "plt.show()"
   ]
  },
  {
   "cell_type": "markdown",
   "source": [
    "### Create preprocessing pipeline"
   ],
   "metadata": {
    "id": "EvkozKo74m_-"
   }
  },
  {
   "cell_type": "code",
   "source": [
    "vanilla_df.dtypes"
   ],
   "metadata": {
    "colab": {
     "base_uri": "https://localhost:8080/"
    },
    "id": "z4rjUt1n7HXg",
    "outputId": "4307b7f9-b28f-457a-b433-e72d497865e3"
   },
   "execution_count": null,
   "outputs": [
    {
     "output_type": "execute_result",
     "data": {
      "text/plain": [
       "PassengerId      object\n",
       "HomePlanet       object\n",
       "CryoSleep        object\n",
       "Cabin            object\n",
       "Destination      object\n",
       "Age             float64\n",
       "VIP              object\n",
       "RoomService     float64\n",
       "FoodCourt       float64\n",
       "ShoppingMall    float64\n",
       "Spa             float64\n",
       "VRDeck          float64\n",
       "Name             object\n",
       "Transported        bool\n",
       "dtype: object"
      ]
     },
     "metadata": {},
     "execution_count": 5
    }
   ]
  },
  {
   "cell_type": "code",
   "source": [
    "vanilla_df = vanilla_df.drop([\"PassengerId\", \"Name\"], axis=1)"
   ],
   "metadata": {
    "id": "QMyetwIY9mq_"
   },
   "execution_count": null,
   "outputs": []
  },
  {
   "cell_type": "code",
   "source": [
    "vanilla_df.head(20)"
   ],
   "metadata": {
    "colab": {
     "base_uri": "https://localhost:8080/",
     "height": 669
    },
    "id": "k00mEx55_Efm",
    "outputId": "a1783766-88ef-497b-ce91-ac642a1dc8cb"
   },
   "execution_count": null,
   "outputs": [
    {
     "output_type": "execute_result",
     "data": {
      "text/plain": [
       "   HomePlanet CryoSleep  Cabin    Destination   Age    VIP  RoomService  \\\n",
       "0      Europa     False  B/0/P    TRAPPIST-1e  39.0  False          0.0   \n",
       "1       Earth     False  F/0/S    TRAPPIST-1e  24.0  False        109.0   \n",
       "2      Europa     False  A/0/S    TRAPPIST-1e  58.0   True         43.0   \n",
       "3      Europa     False  A/0/S    TRAPPIST-1e  33.0  False          0.0   \n",
       "4       Earth     False  F/1/S    TRAPPIST-1e  16.0  False        303.0   \n",
       "5       Earth     False  F/0/P  PSO J318.5-22  44.0  False          0.0   \n",
       "6       Earth     False  F/2/S    TRAPPIST-1e  26.0  False         42.0   \n",
       "7       Earth      True  G/0/S    TRAPPIST-1e  28.0  False          0.0   \n",
       "8       Earth     False  F/3/S    TRAPPIST-1e  35.0  False          0.0   \n",
       "9      Europa      True  B/1/P    55 Cancri e  14.0  False          0.0   \n",
       "10     Europa      True  B/1/P    TRAPPIST-1e  34.0  False          0.0   \n",
       "11     Europa     False  B/1/P    55 Cancri e  45.0  False         39.0   \n",
       "12       Mars     False  F/1/P    TRAPPIST-1e  32.0  False         73.0   \n",
       "13      Earth     False  G/1/S    TRAPPIST-1e  48.0  False        719.0   \n",
       "14      Earth     False  F/2/P    TRAPPIST-1e  28.0  False          8.0   \n",
       "15      Earth     False    NaN    TRAPPIST-1e  31.0  False         32.0   \n",
       "16       Mars     False  F/3/P    55 Cancri e  27.0  False       1286.0   \n",
       "17      Earth     False  F/4/P    55 Cancri e  24.0  False          0.0   \n",
       "18       Mars      True  F/5/P    TRAPPIST-1e  45.0  False          0.0   \n",
       "19      Earth     False  G/0/P    TRAPPIST-1e   0.0  False          0.0   \n",
       "\n",
       "    FoodCourt  ShoppingMall     Spa  VRDeck  Transported  \n",
       "0         0.0           0.0     0.0     0.0        False  \n",
       "1         9.0          25.0   549.0    44.0         True  \n",
       "2      3576.0           0.0  6715.0    49.0        False  \n",
       "3      1283.0         371.0  3329.0   193.0        False  \n",
       "4        70.0         151.0   565.0     2.0         True  \n",
       "5       483.0           0.0   291.0     0.0         True  \n",
       "6      1539.0           3.0     0.0     0.0         True  \n",
       "7         0.0           0.0     0.0     NaN         True  \n",
       "8       785.0          17.0   216.0     0.0         True  \n",
       "9         0.0           0.0     0.0     0.0         True  \n",
       "10        0.0           NaN     0.0     0.0         True  \n",
       "11     7295.0         589.0   110.0   124.0         True  \n",
       "12        0.0        1123.0     0.0   113.0         True  \n",
       "13        1.0          65.0     0.0    24.0        False  \n",
       "14      974.0          12.0     2.0     7.0         True  \n",
       "15        0.0         876.0     0.0     0.0        False  \n",
       "16      122.0           NaN     0.0     0.0        False  \n",
       "17        1.0           0.0     0.0   637.0        False  \n",
       "18        0.0           0.0     0.0     0.0         True  \n",
       "19        0.0           0.0     0.0     0.0         True  "
      ],
      "text/html": [
       "\n",
       "  <div id=\"df-e6535623-7bcd-4f43-bd1a-2e9d1dbadb69\" class=\"colab-df-container\">\n",
       "    <div>\n",
       "<style scoped>\n",
       "    .dataframe tbody tr th:only-of-type {\n",
       "        vertical-align: middle;\n",
       "    }\n",
       "\n",
       "    .dataframe tbody tr th {\n",
       "        vertical-align: top;\n",
       "    }\n",
       "\n",
       "    .dataframe thead th {\n",
       "        text-align: right;\n",
       "    }\n",
       "</style>\n",
       "<table border=\"1\" class=\"dataframe\">\n",
       "  <thead>\n",
       "    <tr style=\"text-align: right;\">\n",
       "      <th></th>\n",
       "      <th>HomePlanet</th>\n",
       "      <th>CryoSleep</th>\n",
       "      <th>Cabin</th>\n",
       "      <th>Destination</th>\n",
       "      <th>Age</th>\n",
       "      <th>VIP</th>\n",
       "      <th>RoomService</th>\n",
       "      <th>FoodCourt</th>\n",
       "      <th>ShoppingMall</th>\n",
       "      <th>Spa</th>\n",
       "      <th>VRDeck</th>\n",
       "      <th>Transported</th>\n",
       "    </tr>\n",
       "  </thead>\n",
       "  <tbody>\n",
       "    <tr>\n",
       "      <th>0</th>\n",
       "      <td>Europa</td>\n",
       "      <td>False</td>\n",
       "      <td>B/0/P</td>\n",
       "      <td>TRAPPIST-1e</td>\n",
       "      <td>39.0</td>\n",
       "      <td>False</td>\n",
       "      <td>0.0</td>\n",
       "      <td>0.0</td>\n",
       "      <td>0.0</td>\n",
       "      <td>0.0</td>\n",
       "      <td>0.0</td>\n",
       "      <td>False</td>\n",
       "    </tr>\n",
       "    <tr>\n",
       "      <th>1</th>\n",
       "      <td>Earth</td>\n",
       "      <td>False</td>\n",
       "      <td>F/0/S</td>\n",
       "      <td>TRAPPIST-1e</td>\n",
       "      <td>24.0</td>\n",
       "      <td>False</td>\n",
       "      <td>109.0</td>\n",
       "      <td>9.0</td>\n",
       "      <td>25.0</td>\n",
       "      <td>549.0</td>\n",
       "      <td>44.0</td>\n",
       "      <td>True</td>\n",
       "    </tr>\n",
       "    <tr>\n",
       "      <th>2</th>\n",
       "      <td>Europa</td>\n",
       "      <td>False</td>\n",
       "      <td>A/0/S</td>\n",
       "      <td>TRAPPIST-1e</td>\n",
       "      <td>58.0</td>\n",
       "      <td>True</td>\n",
       "      <td>43.0</td>\n",
       "      <td>3576.0</td>\n",
       "      <td>0.0</td>\n",
       "      <td>6715.0</td>\n",
       "      <td>49.0</td>\n",
       "      <td>False</td>\n",
       "    </tr>\n",
       "    <tr>\n",
       "      <th>3</th>\n",
       "      <td>Europa</td>\n",
       "      <td>False</td>\n",
       "      <td>A/0/S</td>\n",
       "      <td>TRAPPIST-1e</td>\n",
       "      <td>33.0</td>\n",
       "      <td>False</td>\n",
       "      <td>0.0</td>\n",
       "      <td>1283.0</td>\n",
       "      <td>371.0</td>\n",
       "      <td>3329.0</td>\n",
       "      <td>193.0</td>\n",
       "      <td>False</td>\n",
       "    </tr>\n",
       "    <tr>\n",
       "      <th>4</th>\n",
       "      <td>Earth</td>\n",
       "      <td>False</td>\n",
       "      <td>F/1/S</td>\n",
       "      <td>TRAPPIST-1e</td>\n",
       "      <td>16.0</td>\n",
       "      <td>False</td>\n",
       "      <td>303.0</td>\n",
       "      <td>70.0</td>\n",
       "      <td>151.0</td>\n",
       "      <td>565.0</td>\n",
       "      <td>2.0</td>\n",
       "      <td>True</td>\n",
       "    </tr>\n",
       "    <tr>\n",
       "      <th>5</th>\n",
       "      <td>Earth</td>\n",
       "      <td>False</td>\n",
       "      <td>F/0/P</td>\n",
       "      <td>PSO J318.5-22</td>\n",
       "      <td>44.0</td>\n",
       "      <td>False</td>\n",
       "      <td>0.0</td>\n",
       "      <td>483.0</td>\n",
       "      <td>0.0</td>\n",
       "      <td>291.0</td>\n",
       "      <td>0.0</td>\n",
       "      <td>True</td>\n",
       "    </tr>\n",
       "    <tr>\n",
       "      <th>6</th>\n",
       "      <td>Earth</td>\n",
       "      <td>False</td>\n",
       "      <td>F/2/S</td>\n",
       "      <td>TRAPPIST-1e</td>\n",
       "      <td>26.0</td>\n",
       "      <td>False</td>\n",
       "      <td>42.0</td>\n",
       "      <td>1539.0</td>\n",
       "      <td>3.0</td>\n",
       "      <td>0.0</td>\n",
       "      <td>0.0</td>\n",
       "      <td>True</td>\n",
       "    </tr>\n",
       "    <tr>\n",
       "      <th>7</th>\n",
       "      <td>Earth</td>\n",
       "      <td>True</td>\n",
       "      <td>G/0/S</td>\n",
       "      <td>TRAPPIST-1e</td>\n",
       "      <td>28.0</td>\n",
       "      <td>False</td>\n",
       "      <td>0.0</td>\n",
       "      <td>0.0</td>\n",
       "      <td>0.0</td>\n",
       "      <td>0.0</td>\n",
       "      <td>NaN</td>\n",
       "      <td>True</td>\n",
       "    </tr>\n",
       "    <tr>\n",
       "      <th>8</th>\n",
       "      <td>Earth</td>\n",
       "      <td>False</td>\n",
       "      <td>F/3/S</td>\n",
       "      <td>TRAPPIST-1e</td>\n",
       "      <td>35.0</td>\n",
       "      <td>False</td>\n",
       "      <td>0.0</td>\n",
       "      <td>785.0</td>\n",
       "      <td>17.0</td>\n",
       "      <td>216.0</td>\n",
       "      <td>0.0</td>\n",
       "      <td>True</td>\n",
       "    </tr>\n",
       "    <tr>\n",
       "      <th>9</th>\n",
       "      <td>Europa</td>\n",
       "      <td>True</td>\n",
       "      <td>B/1/P</td>\n",
       "      <td>55 Cancri e</td>\n",
       "      <td>14.0</td>\n",
       "      <td>False</td>\n",
       "      <td>0.0</td>\n",
       "      <td>0.0</td>\n",
       "      <td>0.0</td>\n",
       "      <td>0.0</td>\n",
       "      <td>0.0</td>\n",
       "      <td>True</td>\n",
       "    </tr>\n",
       "    <tr>\n",
       "      <th>10</th>\n",
       "      <td>Europa</td>\n",
       "      <td>True</td>\n",
       "      <td>B/1/P</td>\n",
       "      <td>TRAPPIST-1e</td>\n",
       "      <td>34.0</td>\n",
       "      <td>False</td>\n",
       "      <td>0.0</td>\n",
       "      <td>0.0</td>\n",
       "      <td>NaN</td>\n",
       "      <td>0.0</td>\n",
       "      <td>0.0</td>\n",
       "      <td>True</td>\n",
       "    </tr>\n",
       "    <tr>\n",
       "      <th>11</th>\n",
       "      <td>Europa</td>\n",
       "      <td>False</td>\n",
       "      <td>B/1/P</td>\n",
       "      <td>55 Cancri e</td>\n",
       "      <td>45.0</td>\n",
       "      <td>False</td>\n",
       "      <td>39.0</td>\n",
       "      <td>7295.0</td>\n",
       "      <td>589.0</td>\n",
       "      <td>110.0</td>\n",
       "      <td>124.0</td>\n",
       "      <td>True</td>\n",
       "    </tr>\n",
       "    <tr>\n",
       "      <th>12</th>\n",
       "      <td>Mars</td>\n",
       "      <td>False</td>\n",
       "      <td>F/1/P</td>\n",
       "      <td>TRAPPIST-1e</td>\n",
       "      <td>32.0</td>\n",
       "      <td>False</td>\n",
       "      <td>73.0</td>\n",
       "      <td>0.0</td>\n",
       "      <td>1123.0</td>\n",
       "      <td>0.0</td>\n",
       "      <td>113.0</td>\n",
       "      <td>True</td>\n",
       "    </tr>\n",
       "    <tr>\n",
       "      <th>13</th>\n",
       "      <td>Earth</td>\n",
       "      <td>False</td>\n",
       "      <td>G/1/S</td>\n",
       "      <td>TRAPPIST-1e</td>\n",
       "      <td>48.0</td>\n",
       "      <td>False</td>\n",
       "      <td>719.0</td>\n",
       "      <td>1.0</td>\n",
       "      <td>65.0</td>\n",
       "      <td>0.0</td>\n",
       "      <td>24.0</td>\n",
       "      <td>False</td>\n",
       "    </tr>\n",
       "    <tr>\n",
       "      <th>14</th>\n",
       "      <td>Earth</td>\n",
       "      <td>False</td>\n",
       "      <td>F/2/P</td>\n",
       "      <td>TRAPPIST-1e</td>\n",
       "      <td>28.0</td>\n",
       "      <td>False</td>\n",
       "      <td>8.0</td>\n",
       "      <td>974.0</td>\n",
       "      <td>12.0</td>\n",
       "      <td>2.0</td>\n",
       "      <td>7.0</td>\n",
       "      <td>True</td>\n",
       "    </tr>\n",
       "    <tr>\n",
       "      <th>15</th>\n",
       "      <td>Earth</td>\n",
       "      <td>False</td>\n",
       "      <td>NaN</td>\n",
       "      <td>TRAPPIST-1e</td>\n",
       "      <td>31.0</td>\n",
       "      <td>False</td>\n",
       "      <td>32.0</td>\n",
       "      <td>0.0</td>\n",
       "      <td>876.0</td>\n",
       "      <td>0.0</td>\n",
       "      <td>0.0</td>\n",
       "      <td>False</td>\n",
       "    </tr>\n",
       "    <tr>\n",
       "      <th>16</th>\n",
       "      <td>Mars</td>\n",
       "      <td>False</td>\n",
       "      <td>F/3/P</td>\n",
       "      <td>55 Cancri e</td>\n",
       "      <td>27.0</td>\n",
       "      <td>False</td>\n",
       "      <td>1286.0</td>\n",
       "      <td>122.0</td>\n",
       "      <td>NaN</td>\n",
       "      <td>0.0</td>\n",
       "      <td>0.0</td>\n",
       "      <td>False</td>\n",
       "    </tr>\n",
       "    <tr>\n",
       "      <th>17</th>\n",
       "      <td>Earth</td>\n",
       "      <td>False</td>\n",
       "      <td>F/4/P</td>\n",
       "      <td>55 Cancri e</td>\n",
       "      <td>24.0</td>\n",
       "      <td>False</td>\n",
       "      <td>0.0</td>\n",
       "      <td>1.0</td>\n",
       "      <td>0.0</td>\n",
       "      <td>0.0</td>\n",
       "      <td>637.0</td>\n",
       "      <td>False</td>\n",
       "    </tr>\n",
       "    <tr>\n",
       "      <th>18</th>\n",
       "      <td>Mars</td>\n",
       "      <td>True</td>\n",
       "      <td>F/5/P</td>\n",
       "      <td>TRAPPIST-1e</td>\n",
       "      <td>45.0</td>\n",
       "      <td>False</td>\n",
       "      <td>0.0</td>\n",
       "      <td>0.0</td>\n",
       "      <td>0.0</td>\n",
       "      <td>0.0</td>\n",
       "      <td>0.0</td>\n",
       "      <td>True</td>\n",
       "    </tr>\n",
       "    <tr>\n",
       "      <th>19</th>\n",
       "      <td>Earth</td>\n",
       "      <td>False</td>\n",
       "      <td>G/0/P</td>\n",
       "      <td>TRAPPIST-1e</td>\n",
       "      <td>0.0</td>\n",
       "      <td>False</td>\n",
       "      <td>0.0</td>\n",
       "      <td>0.0</td>\n",
       "      <td>0.0</td>\n",
       "      <td>0.0</td>\n",
       "      <td>0.0</td>\n",
       "      <td>True</td>\n",
       "    </tr>\n",
       "  </tbody>\n",
       "</table>\n",
       "</div>\n",
       "    <div class=\"colab-df-buttons\">\n",
       "\n",
       "  <div class=\"colab-df-container\">\n",
       "    <button class=\"colab-df-convert\" onclick=\"convertToInteractive('df-e6535623-7bcd-4f43-bd1a-2e9d1dbadb69')\"\n",
       "            title=\"Convert this dataframe to an interactive table.\"\n",
       "            style=\"display:none;\">\n",
       "\n",
       "  <svg xmlns=\"http://www.w3.org/2000/svg\" height=\"24px\" viewBox=\"0 -960 960 960\">\n",
       "    <path d=\"M120-120v-720h720v720H120Zm60-500h600v-160H180v160Zm220 220h160v-160H400v160Zm0 220h160v-160H400v160ZM180-400h160v-160H180v160Zm440 0h160v-160H620v160ZM180-180h160v-160H180v160Zm440 0h160v-160H620v160Z\"/>\n",
       "  </svg>\n",
       "    </button>\n",
       "\n",
       "  <style>\n",
       "    .colab-df-container {\n",
       "      display:flex;\n",
       "      gap: 12px;\n",
       "    }\n",
       "\n",
       "    .colab-df-convert {\n",
       "      background-color: #E8F0FE;\n",
       "      border: none;\n",
       "      border-radius: 50%;\n",
       "      cursor: pointer;\n",
       "      display: none;\n",
       "      fill: #1967D2;\n",
       "      height: 32px;\n",
       "      padding: 0 0 0 0;\n",
       "      width: 32px;\n",
       "    }\n",
       "\n",
       "    .colab-df-convert:hover {\n",
       "      background-color: #E2EBFA;\n",
       "      box-shadow: 0px 1px 2px rgba(60, 64, 67, 0.3), 0px 1px 3px 1px rgba(60, 64, 67, 0.15);\n",
       "      fill: #174EA6;\n",
       "    }\n",
       "\n",
       "    .colab-df-buttons div {\n",
       "      margin-bottom: 4px;\n",
       "    }\n",
       "\n",
       "    [theme=dark] .colab-df-convert {\n",
       "      background-color: #3B4455;\n",
       "      fill: #D2E3FC;\n",
       "    }\n",
       "\n",
       "    [theme=dark] .colab-df-convert:hover {\n",
       "      background-color: #434B5C;\n",
       "      box-shadow: 0px 1px 3px 1px rgba(0, 0, 0, 0.15);\n",
       "      filter: drop-shadow(0px 1px 2px rgba(0, 0, 0, 0.3));\n",
       "      fill: #FFFFFF;\n",
       "    }\n",
       "  </style>\n",
       "\n",
       "    <script>\n",
       "      const buttonEl =\n",
       "        document.querySelector('#df-e6535623-7bcd-4f43-bd1a-2e9d1dbadb69 button.colab-df-convert');\n",
       "      buttonEl.style.display =\n",
       "        google.colab.kernel.accessAllowed ? 'block' : 'none';\n",
       "\n",
       "      async function convertToInteractive(key) {\n",
       "        const element = document.querySelector('#df-e6535623-7bcd-4f43-bd1a-2e9d1dbadb69');\n",
       "        const dataTable =\n",
       "          await google.colab.kernel.invokeFunction('convertToInteractive',\n",
       "                                                    [key], {});\n",
       "        if (!dataTable) return;\n",
       "\n",
       "        const docLinkHtml = 'Like what you see? Visit the ' +\n",
       "          '<a target=\"_blank\" href=https://colab.research.google.com/notebooks/data_table.ipynb>data table notebook</a>'\n",
       "          + ' to learn more about interactive tables.';\n",
       "        element.innerHTML = '';\n",
       "        dataTable['output_type'] = 'display_data';\n",
       "        await google.colab.output.renderOutput(dataTable, element);\n",
       "        const docLink = document.createElement('div');\n",
       "        docLink.innerHTML = docLinkHtml;\n",
       "        element.appendChild(docLink);\n",
       "      }\n",
       "    </script>\n",
       "  </div>\n",
       "\n",
       "\n",
       "<div id=\"df-3cd8499d-08c2-46c8-b8d3-eb7a947e85a6\">\n",
       "  <button class=\"colab-df-quickchart\" onclick=\"quickchart('df-3cd8499d-08c2-46c8-b8d3-eb7a947e85a6')\"\n",
       "            title=\"Suggest charts.\"\n",
       "            style=\"display:none;\">\n",
       "\n",
       "<svg xmlns=\"http://www.w3.org/2000/svg\" height=\"24px\"viewBox=\"0 0 24 24\"\n",
       "     width=\"24px\">\n",
       "    <g>\n",
       "        <path d=\"M19 3H5c-1.1 0-2 .9-2 2v14c0 1.1.9 2 2 2h14c1.1 0 2-.9 2-2V5c0-1.1-.9-2-2-2zM9 17H7v-7h2v7zm4 0h-2V7h2v10zm4 0h-2v-4h2v4z\"/>\n",
       "    </g>\n",
       "</svg>\n",
       "  </button>\n",
       "\n",
       "<style>\n",
       "  .colab-df-quickchart {\n",
       "      --bg-color: #E8F0FE;\n",
       "      --fill-color: #1967D2;\n",
       "      --hover-bg-color: #E2EBFA;\n",
       "      --hover-fill-color: #174EA6;\n",
       "      --disabled-fill-color: #AAA;\n",
       "      --disabled-bg-color: #DDD;\n",
       "  }\n",
       "\n",
       "  [theme=dark] .colab-df-quickchart {\n",
       "      --bg-color: #3B4455;\n",
       "      --fill-color: #D2E3FC;\n",
       "      --hover-bg-color: #434B5C;\n",
       "      --hover-fill-color: #FFFFFF;\n",
       "      --disabled-bg-color: #3B4455;\n",
       "      --disabled-fill-color: #666;\n",
       "  }\n",
       "\n",
       "  .colab-df-quickchart {\n",
       "    background-color: var(--bg-color);\n",
       "    border: none;\n",
       "    border-radius: 50%;\n",
       "    cursor: pointer;\n",
       "    display: none;\n",
       "    fill: var(--fill-color);\n",
       "    height: 32px;\n",
       "    padding: 0;\n",
       "    width: 32px;\n",
       "  }\n",
       "\n",
       "  .colab-df-quickchart:hover {\n",
       "    background-color: var(--hover-bg-color);\n",
       "    box-shadow: 0 1px 2px rgba(60, 64, 67, 0.3), 0 1px 3px 1px rgba(60, 64, 67, 0.15);\n",
       "    fill: var(--button-hover-fill-color);\n",
       "  }\n",
       "\n",
       "  .colab-df-quickchart-complete:disabled,\n",
       "  .colab-df-quickchart-complete:disabled:hover {\n",
       "    background-color: var(--disabled-bg-color);\n",
       "    fill: var(--disabled-fill-color);\n",
       "    box-shadow: none;\n",
       "  }\n",
       "\n",
       "  .colab-df-spinner {\n",
       "    border: 2px solid var(--fill-color);\n",
       "    border-color: transparent;\n",
       "    border-bottom-color: var(--fill-color);\n",
       "    animation:\n",
       "      spin 1s steps(1) infinite;\n",
       "  }\n",
       "\n",
       "  @keyframes spin {\n",
       "    0% {\n",
       "      border-color: transparent;\n",
       "      border-bottom-color: var(--fill-color);\n",
       "      border-left-color: var(--fill-color);\n",
       "    }\n",
       "    20% {\n",
       "      border-color: transparent;\n",
       "      border-left-color: var(--fill-color);\n",
       "      border-top-color: var(--fill-color);\n",
       "    }\n",
       "    30% {\n",
       "      border-color: transparent;\n",
       "      border-left-color: var(--fill-color);\n",
       "      border-top-color: var(--fill-color);\n",
       "      border-right-color: var(--fill-color);\n",
       "    }\n",
       "    40% {\n",
       "      border-color: transparent;\n",
       "      border-right-color: var(--fill-color);\n",
       "      border-top-color: var(--fill-color);\n",
       "    }\n",
       "    60% {\n",
       "      border-color: transparent;\n",
       "      border-right-color: var(--fill-color);\n",
       "    }\n",
       "    80% {\n",
       "      border-color: transparent;\n",
       "      border-right-color: var(--fill-color);\n",
       "      border-bottom-color: var(--fill-color);\n",
       "    }\n",
       "    90% {\n",
       "      border-color: transparent;\n",
       "      border-bottom-color: var(--fill-color);\n",
       "    }\n",
       "  }\n",
       "</style>\n",
       "\n",
       "  <script>\n",
       "    async function quickchart(key) {\n",
       "      const quickchartButtonEl =\n",
       "        document.querySelector('#' + key + ' button');\n",
       "      quickchartButtonEl.disabled = true;  // To prevent multiple clicks.\n",
       "      quickchartButtonEl.classList.add('colab-df-spinner');\n",
       "      try {\n",
       "        const charts = await google.colab.kernel.invokeFunction(\n",
       "            'suggestCharts', [key], {});\n",
       "      } catch (error) {\n",
       "        console.error('Error during call to suggestCharts:', error);\n",
       "      }\n",
       "      quickchartButtonEl.classList.remove('colab-df-spinner');\n",
       "      quickchartButtonEl.classList.add('colab-df-quickchart-complete');\n",
       "    }\n",
       "    (() => {\n",
       "      let quickchartButtonEl =\n",
       "        document.querySelector('#df-3cd8499d-08c2-46c8-b8d3-eb7a947e85a6 button');\n",
       "      quickchartButtonEl.style.display =\n",
       "        google.colab.kernel.accessAllowed ? 'block' : 'none';\n",
       "    })();\n",
       "  </script>\n",
       "</div>\n",
       "    </div>\n",
       "  </div>\n"
      ]
     },
     "metadata": {},
     "execution_count": 7
    }
   ]
  },
  {
   "cell_type": "code",
   "source": [
    "vip_val = np.array(vanilla_df)[0][5]\n",
    "vip_val"
   ],
   "metadata": {
    "colab": {
     "base_uri": "https://localhost:8080/"
    },
    "id": "eh-cCqkLyHhC",
    "outputId": "80b2e2ba-01ee-4a04-a9fe-84d54a2ac4b8"
   },
   "execution_count": null,
   "outputs": [
    {
     "output_type": "execute_result",
     "data": {
      "text/plain": [
       "False"
      ]
     },
     "metadata": {},
     "execution_count": 8
    }
   ]
  },
  {
   "cell_type": "code",
   "source": [
    "object_params = [key for key, dtype in vanilla_df.dtypes.items() if dtype == \"object\"]\n",
    "numerical_params = [key for key, dtype in vanilla_df.dtypes.items() if dtype == \"float64\"]\n",
    "object_params, numerical_params"
   ],
   "metadata": {
    "colab": {
     "base_uri": "https://localhost:8080/"
    },
    "id": "PqLD_bDn7SSm",
    "outputId": "b558b8b4-18aa-4760-bdda-60f0de69966b"
   },
   "execution_count": null,
   "outputs": [
    {
     "output_type": "execute_result",
     "data": {
      "text/plain": [
       "(['HomePlanet', 'CryoSleep', 'Cabin', 'Destination', 'VIP'],\n",
       " ['Age', 'RoomService', 'FoodCourt', 'ShoppingMall', 'Spa', 'VRDeck'])"
      ]
     },
     "metadata": {},
     "execution_count": 9
    }
   ]
  },
  {
   "cell_type": "code",
   "source": [
    "categorical_params = [\"HomePlanet\", \"Destination\"]\n",
    "boolean_params = [\"CryoSleep\", \"VIP\"]\n",
    "cabin_params = \"Cabin\"\n",
    "LABEL_KEY = \"Transported\""
   ],
   "metadata": {
    "id": "Vok-F4Jx94Vi"
   },
   "execution_count": null,
   "outputs": []
  },
  {
   "cell_type": "code",
   "source": [
    "features = vanilla_df.copy()\n",
    "labels = features.pop(\"Transported\")"
   ],
   "metadata": {
    "id": "I61bKMzfJTZf"
   },
   "execution_count": null,
   "outputs": []
  },
  {
   "cell_type": "markdown",
   "source": [
    "Because of different datatypes we cant just feed the data into numpy array and then to the model.\n",
    "Each column has to be handelt individualy.\n",
    "We use Preprocessing so it gets saved with the model."
   ],
   "metadata": {
    "id": "BCWovuOjJXMf"
   }
  },
  {
   "cell_type": "markdown",
   "source": [
    "#### **tangent:** Symbolic tensors\n",
    "\n",
    "a way to create operations but not run them.\n",
    "-> to be precise we are creating computional graphs"
   ],
   "metadata": {
    "id": "sm-_6kHGY3yl"
   }
  },
  {
   "cell_type": "code",
   "source": [
    "import tensorflow as tf\n",
    "# Create a symbolic input\n",
    "input = tf.keras.Input(shape=(), dtype=tf.float32)\n",
    "\n",
    "# Perform a calculation using the input\n",
    "result = tf.math.add(tf.math.multiply(2., input), 1.)\n",
    "result_2 = 2*input - 1\n",
    "result_3 = result * result_2\n",
    "\n",
    "# the result doesn't have a value\n",
    "result"
   ],
   "metadata": {
    "colab": {
     "base_uri": "https://localhost:8080/"
    },
    "id": "ZeUdvn2cX9FJ",
    "outputId": "10e9518b-39c3-4d4a-e8d3-a39c3cf466f6"
   },
   "execution_count": null,
   "outputs": [
    {
     "output_type": "execute_result",
     "data": {
      "text/plain": [
       "<KerasTensor: shape=(None,) dtype=float32 (created by layer 'tf.math.add_2')>"
      ]
     },
     "metadata": {},
     "execution_count": 5
    }
   ]
  },
  {
   "cell_type": "code",
   "source": [
    "# now we use a tensorflow keras.Model to execut the computional graph\n",
    "\n",
    "calculate_with_graph = tf.keras.Model(inputs=input, outputs=[result, result_2, result_3])\n",
    "print(calculate_with_graph)\n",
    "print(calculate_with_graph(2))\n",
    "print(calculate_with_graph(4))"
   ],
   "metadata": {
    "colab": {
     "base_uri": "https://localhost:8080/"
    },
    "id": "99jakqvNZXYN",
    "outputId": "7cbbe4ee-030f-4f39-8109-0fc4a7218706"
   },
   "execution_count": null,
   "outputs": [
    {
     "output_type": "stream",
     "name": "stdout",
     "text": [
      "<keras.src.engine.functional.Functional object at 0x7b13eae1ece0>\n",
      "[<tf.Tensor: shape=(), dtype=float32, numpy=5.0>, <tf.Tensor: shape=(), dtype=float32, numpy=3.0>, <tf.Tensor: shape=(), dtype=float32, numpy=15.0>]\n",
      "[<tf.Tensor: shape=(), dtype=float32, numpy=9.0>, <tf.Tensor: shape=(), dtype=float32, numpy=7.0>, <tf.Tensor: shape=(), dtype=float32, numpy=63.0>]\n"
     ]
    }
   ]
  },
  {
   "cell_type": "markdown",
   "source": [
    "So the tf.keras.Model(input,output) sets the inputs and outputs of the model.\n",
    "With the Input you define dtype and shape of the data coming in.\n",
    " -> this can also be multiple sources goint to different places.\n",
    "and with the output you define what are the results you want to extract\n",
    " -> can also be multiple\n"
   ],
   "metadata": {
    "id": "ZPVqHBWfbZVn"
   }
  },
  {
   "cell_type": "code",
   "source": [
    "[column.dtype for name, column in features.items()]"
   ],
   "metadata": {
    "colab": {
     "base_uri": "https://localhost:8080/"
    },
    "id": "1xnbQpYIX_Uq",
    "outputId": "398f3a91-79f8-47b3-ff69-9464cdd5a97b"
   },
   "execution_count": null,
   "outputs": [
    {
     "output_type": "execute_result",
     "data": {
      "text/plain": [
       "[dtype('O'),\n",
       " dtype('O'),\n",
       " dtype('O'),\n",
       " dtype('O'),\n",
       " dtype('float64'),\n",
       " dtype('O'),\n",
       " dtype('float64'),\n",
       " dtype('float64'),\n",
       " dtype('float64'),\n",
       " dtype('float64'),\n",
       " dtype('float64')]"
      ]
     },
     "metadata": {},
     "execution_count": 78
    }
   ]
  },
  {
   "cell_type": "code",
   "source": [
    "# building a set of symbolic inputs with matchin names and dtypes for each csv column\n",
    "inputs = {}\n",
    "for name, column in features.items():\n",
    "  dtype = column.dtype\n",
    "  if name == \"VIP\" or name == \"CryoSleep\":\n",
    "    dtype = tf.bool\n",
    "  elif dtype == 'object':\n",
    "    dtype = tf.string\n",
    "  else:\n",
    "    dtype = tf.float32\n",
    "\n",
    "  inputs[name] = tf.keras.Input(shape=(), dtype=dtype, name=name)\n",
    "\n",
    "inputs"
   ],
   "metadata": {
    "colab": {
     "base_uri": "https://localhost:8080/"
    },
    "id": "xEVRZ2mIcn8H",
    "outputId": "ac4725f5-f337-4be4-efc0-3b1466137e83"
   },
   "execution_count": null,
   "outputs": [
    {
     "output_type": "execute_result",
     "data": {
      "text/plain": [
       "{'HomePlanet': <KerasTensor: shape=(None,) dtype=string (created by layer 'HomePlanet')>,\n",
       " 'CryoSleep': <KerasTensor: shape=(None,) dtype=bool (created by layer 'CryoSleep')>,\n",
       " 'Cabin': <KerasTensor: shape=(None,) dtype=string (created by layer 'Cabin')>,\n",
       " 'Destination': <KerasTensor: shape=(None,) dtype=string (created by layer 'Destination')>,\n",
       " 'Age': <KerasTensor: shape=(None,) dtype=float32 (created by layer 'Age')>,\n",
       " 'VIP': <KerasTensor: shape=(None,) dtype=bool (created by layer 'VIP')>,\n",
       " 'RoomService': <KerasTensor: shape=(None,) dtype=float32 (created by layer 'RoomService')>,\n",
       " 'FoodCourt': <KerasTensor: shape=(None,) dtype=float32 (created by layer 'FoodCourt')>,\n",
       " 'ShoppingMall': <KerasTensor: shape=(None,) dtype=float32 (created by layer 'ShoppingMall')>,\n",
       " 'Spa': <KerasTensor: shape=(None,) dtype=float32 (created by layer 'Spa')>,\n",
       " 'VRDeck': <KerasTensor: shape=(None,) dtype=float32 (created by layer 'VRDeck')>}"
      ]
     },
     "metadata": {},
     "execution_count": 91
    }
   ]
  },
  {
   "cell_type": "code",
   "source": [
    "#Split Cabin and get the required vaiables\n",
    "cabin_input = inputs.get('Cabin')\n",
    "\n",
    "\n",
    "\n",
    "split_cabin = tf.strings.split(cabin_input, sep=\"/\")\n",
    "\n",
    "cabin_deck_numeric = tf.strings.to_number(split_cabin[1], out_type=tf.float32)\n",
    "\n",
    "cabin_deck_numeric.set_shape((1,))\n",
    "\n",
    "inputs_cabin_deck = split_cabin[0]\n",
    "inputs_cabin_num = cabin_deck_numeric\n",
    "inputs_cabin_side =split_cabin[2]\n",
    "\n",
    "# create vocabs\n",
    "cabin = vanilla_df[\"Cabin\"].dropna()\n",
    "cabin_split= pd.DataFrame()\n",
    "cabin_split[['CabinDeck', 'CabinNum', 'CabinSide']] = cabin.str.split('/', expand=True)\n",
    "cabin_deck_vocab = cabin_split[\"CabinDeck\"].unique()\n",
    "cabin_side_vocab = cabin_split[\"CabinSide\"].unique()\n",
    "\n",
    "# create cabin variance and mean\n",
    "cabin_num_var = np.var(np.array(cabin_split[\"CabinNum\"].astype(float)))\n",
    "cabin_num_mean = np.mean(np.array(cabin_split[\"CabinNum\"].astype(float)))\n"
   ],
   "metadata": {
    "id": "i8hyQ60gHBjl"
   },
   "execution_count": null,
   "outputs": []
  },
  {
   "cell_type": "code",
   "source": [
    "# List for the preprocessed inputs\n",
    "preprocessed_inputs = []"
   ],
   "metadata": {
    "id": "ubLWN1j3iDAi"
   },
   "execution_count": null,
   "outputs": []
  },
  {
   "cell_type": "code",
   "source": [
    "\n",
    "lookup = tf.keras.layers.StringLookup(vocabulary=cabin_deck_vocab)\n",
    "one_hot = tf.keras.layers.CategoryEncoding(num_tokens=lookup.vocabulary_size(), name=\"categorical_cabin_deck\")\n",
    "\n",
    "x = lookup(inputs_cabin_deck)\n",
    "x = one_hot(x)\n",
    "\n",
    "preprocessed_inputs.append(x)\n",
    "\n",
    "lookup = tf.keras.layers.StringLookup(vocabulary=cabin_side_vocab)\n",
    "one_hot = tf.keras.layers.CategoryEncoding(num_tokens=lookup.vocabulary_size(), name=\"categorical_cabin_side\")\n",
    "\n",
    "x = lookup(inputs_cabin_side)\n",
    "x = one_hot(x)\n",
    "\n",
    "preprocessed_inputs.append(x)"
   ],
   "metadata": {
    "id": "BavXPPtWh7qe"
   },
   "execution_count": null,
   "outputs": []
  },
  {
   "cell_type": "code",
   "source": [
    "# Normalize CabinNum\n",
    "\n",
    "norm = tf.keras.layers.Normalization(mean=cabin_num_mean, variance=cabin_num_var, axis=None, name=\"CabinNum\")\n",
    "x = norm(inputs_cabin_num)\n",
    "\n",
    "preprocessed_inputs.append(x)\n",
    "preprocessed_inputs"
   ],
   "metadata": {
    "colab": {
     "base_uri": "https://localhost:8080/"
    },
    "id": "1T2prF-zDKcy",
    "outputId": "518719d8-12b3-4a92-b4b7-b051c77f5fa3"
   },
   "execution_count": null,
   "outputs": [
    {
     "output_type": "execute_result",
     "data": {
      "text/plain": [
       "[<KerasTensor: shape=(9,) dtype=float32 (created by layer 'categorical_cabin_deck')>,\n",
       " <KerasTensor: shape=(3,) dtype=float32 (created by layer 'categorical_cabin_side')>,\n",
       " <KerasTensor: shape=(1,) dtype=float32 (created by layer 'CabinNum')>]"
      ]
     },
     "metadata": {},
     "execution_count": 95
    }
   ]
  },
  {
   "cell_type": "code",
   "source": [
    "# Preprocesing numeric values by concatenate and normalize them\n",
    "\n",
    "# get all the columns in a dict with float type\n",
    "numeric_inputs = {name:input for name, input in inputs.items()\n",
    "                  if input.dtype == tf.float32}\n",
    "\n",
    "x = tf.keras.layers.Concatenate()(list(numeric_inputs.values()))\n",
    "norm = tf.keras.layers.Normalization()\n",
    "\n",
    "# calculate the normal variance with the complete numeric dataset\n",
    "norm.adapt(np.array(vanilla_df[numeric_inputs.keys()], dtype=np.float32))\n",
    "\n",
    "all_numeric_inputs = norm(x)\n",
    "\n",
    "output = tf.keras.layers.Lambda(lambda x: tf.squeeze(x, axis=0), name=\"Cat_num\")(all_numeric_inputs)\n",
    "\n",
    "preprocessed_inputs.append(output)"
   ],
   "metadata": {
    "id": "Xf9kEgc8jFl8"
   },
   "execution_count": null,
   "outputs": []
  },
  {
   "cell_type": "code",
   "source": [
    "# Preprocess Strings\n",
    "for name, input in inputs.items():\n",
    "  if input.dtype != tf.string or name == \"Cabin\":\n",
    "    continue\n",
    "\n",
    "  vocab = np.unique(vanilla_df[name].dropna())\n",
    "\n",
    "  lookup = tf.keras.layers.StringLookup(vocabulary=vocab)\n",
    "  one_hot = tf.keras.layers.CategoryEncoding(num_tokens=lookup.vocabulary_size(), name=\"categorical_\"+name)\n",
    "\n",
    "  x = lookup(input)\n",
    "  x = one_hot(x)\n",
    "\n",
    "  preprocessed_inputs.append(x)"
   ],
   "metadata": {
    "id": "D79bJatyntKY"
   },
   "execution_count": null,
   "outputs": []
  },
  {
   "cell_type": "code",
   "source": [
    "# Preprocess bools\n",
    "for i, (name, input) in enumerate(inputs.items()):\n",
    "  if input.dtype == tf.bool:\n",
    "    print(name)\n",
    "    x = tf.keras.layers.Lambda(lambda x: tf.cast(x, dtype=tf.float32), name=f\"bools_{i}\")(input)\n",
    "    preprocessed_inputs.append(x)"
   ],
   "metadata": {
    "colab": {
     "base_uri": "https://localhost:8080/"
    },
    "id": "0fuUMvilMKiT",
    "outputId": "bbf7b3dc-96dc-49f2-f4f1-6b4979e108a2"
   },
   "execution_count": null,
   "outputs": [
    {
     "output_type": "stream",
     "name": "stdout",
     "text": [
      "CryoSleep\n",
      "VIP\n"
     ]
    }
   ]
  },
  {
   "cell_type": "code",
   "source": [
    "preprocessed_inputs, inputs"
   ],
   "metadata": {
    "colab": {
     "base_uri": "https://localhost:8080/"
    },
    "id": "wKMHBu2IO3jw",
    "outputId": "51901d52-0488-4399-9f9c-376f9507ec04"
   },
   "execution_count": null,
   "outputs": [
    {
     "output_type": "execute_result",
     "data": {
      "text/plain": [
       "([<KerasTensor: shape=(9,) dtype=float32 (created by layer 'categorical_cabin_deck')>,\n",
       "  <KerasTensor: shape=(3,) dtype=float32 (created by layer 'categorical_cabin_side')>,\n",
       "  <KerasTensor: shape=(1,) dtype=float32 (created by layer 'CabinNum')>,\n",
       "  <KerasTensor: shape=(6,) dtype=float32 (created by layer 'Cat_num')>,\n",
       "  <KerasTensor: shape=(4,) dtype=float32 (created by layer 'categorical_HomePlanet')>,\n",
       "  <KerasTensor: shape=(4,) dtype=float32 (created by layer 'categorical_Destination')>,\n",
       "  <KerasTensor: shape=(None,) dtype=float32 (created by layer 'bools_1')>,\n",
       "  <KerasTensor: shape=(None,) dtype=float32 (created by layer 'bools_5')>],\n",
       " {'HomePlanet': <KerasTensor: shape=(None,) dtype=string (created by layer 'HomePlanet')>,\n",
       "  'CryoSleep': <KerasTensor: shape=(None,) dtype=bool (created by layer 'CryoSleep')>,\n",
       "  'Cabin': <KerasTensor: shape=(None,) dtype=string (created by layer 'Cabin')>,\n",
       "  'Destination': <KerasTensor: shape=(None,) dtype=string (created by layer 'Destination')>,\n",
       "  'Age': <KerasTensor: shape=(None,) dtype=float32 (created by layer 'Age')>,\n",
       "  'VIP': <KerasTensor: shape=(None,) dtype=bool (created by layer 'VIP')>,\n",
       "  'RoomService': <KerasTensor: shape=(None,) dtype=float32 (created by layer 'RoomService')>,\n",
       "  'FoodCourt': <KerasTensor: shape=(None,) dtype=float32 (created by layer 'FoodCourt')>,\n",
       "  'ShoppingMall': <KerasTensor: shape=(None,) dtype=float32 (created by layer 'ShoppingMall')>,\n",
       "  'Spa': <KerasTensor: shape=(None,) dtype=float32 (created by layer 'Spa')>,\n",
       "  'VRDeck': <KerasTensor: shape=(None,) dtype=float32 (created by layer 'VRDeck')>})"
      ]
     },
     "metadata": {},
     "execution_count": 101
    }
   ]
  },
  {
   "cell_type": "code",
   "source": [
    "preprocessed_inputs_cat = tf.keras.layers.Concatenate()(preprocessed_inputs)\n",
    "\n",
    "complete_preprocessing = tf.keras.Model(inputs, preprocessed_inputs_cat)\n",
    "\n",
    "tf.keras.utils.plot_model(model = complete_preprocessing , rankdir=\"LR\", dpi=72, show_shapes=True)\n"
   ],
   "metadata": {
    "id": "daikUBCSOTCx",
    "colab": {
     "base_uri": "https://localhost:8080/",
     "height": 572
    },
    "outputId": "d239dc3f-2b7a-4548-fcfd-d6d746ecb3bf"
   },
   "execution_count": null,
   "outputs": [
    {
     "output_type": "execute_result",
     "data": {
      "image/png": "[encoded data removed]",
      "text/plain": [
       "<IPython.core.display.Image object>"
      ]
     },
     "metadata": {},
     "execution_count": 102
    }
   ]
  },
  {
   "cell_type": "code",
   "source": [
    "# you cant feed dataframes directly into the model so i create a dict\n",
    "features_dict = {name: np.array(value)\n",
    "                         for name, value in features.items()}"
   ],
   "metadata": {
    "id": "UIHiNiNda_Px"
   },
   "execution_count": null,
   "outputs": []
  },
  {
   "cell_type": "code",
   "source": [
    "# test preprocessing\n",
    "features_dict = {name:values[:1] for name, values in features.items()}\n",
    "for name, value in features_dict.items():\n",
    "  print(f\"\"\"Name: {name}\\nValue: {value[0]}\\n\\n\"\"\")\n",
    "\n",
    "complete_preprocessing(features_dict)"
   ],
   "metadata": {
    "colab": {
     "base_uri": "https://localhost:8080/",
     "height": 1000
    },
    "id": "CSvPTouebIQx",
    "outputId": "1aea129a-e674-4def-dedf-551047262e42"
   },
   "execution_count": null,
   "outputs": [
    {
     "output_type": "stream",
     "name": "stdout",
     "text": [
      "Name: HomePlanet\n",
      "Value: Europa\n",
      "\n",
      "\n",
      "Name: CryoSleep\n",
      "Value: False\n",
      "\n",
      "\n",
      "Name: Cabin\n",
      "Value: B/0/P\n",
      "\n",
      "\n",
      "Name: Destination\n",
      "Value: TRAPPIST-1e\n",
      "\n",
      "\n",
      "Name: Age\n",
      "Value: 39.0\n",
      "\n",
      "\n",
      "Name: VIP\n",
      "Value: False\n",
      "\n",
      "\n",
      "Name: RoomService\n",
      "Value: 0.0\n",
      "\n",
      "\n",
      "Name: FoodCourt\n",
      "Value: 0.0\n",
      "\n",
      "\n",
      "Name: ShoppingMall\n",
      "Value: 0.0\n",
      "\n",
      "\n",
      "Name: Spa\n",
      "Value: 0.0\n",
      "\n",
      "\n",
      "Name: VRDeck\n",
      "Value: 0.0\n"
     ]
    },
    {
     "output_type": "error",
     "ename": "AttributeError",
     "evalue": "ignored",
     "traceback": [
      "\u001B[0;31m---------------------------------------------------------------------------\u001B[0m",
      "\u001B[0;31mAttributeError\u001B[0m                            Traceback (most recent call last)",
      "\u001B[0;32m<ipython-input-120-21109b0e22e5>\u001B[0m in \u001B[0;36m<cell line: 6>\u001B[0;34m()\u001B[0m\n\u001B[1;32m      4\u001B[0m   \u001B[0mprint\u001B[0m\u001B[0;34m(\u001B[0m\u001B[0;34mf\"\"\"Name: {name}\\nValue: {value[0]}\\n\\n\"\"\"\u001B[0m\u001B[0;34m)\u001B[0m\u001B[0;34m\u001B[0m\u001B[0;34m\u001B[0m\u001B[0m\n\u001B[1;32m      5\u001B[0m \u001B[0;34m\u001B[0m\u001B[0m\n\u001B[0;32m----> 6\u001B[0;31m \u001B[0mcomplete_preprocessing\u001B[0m\u001B[0;34m(\u001B[0m\u001B[0mfeatures_dict\u001B[0m\u001B[0;34m)\u001B[0m\u001B[0;34m\u001B[0m\u001B[0;34m\u001B[0m\u001B[0m\n\u001B[0m",
      "\u001B[0;32m/usr/local/lib/python3.10/dist-packages/keras/src/utils/traceback_utils.py\u001B[0m in \u001B[0;36merror_handler\u001B[0;34m(*args, **kwargs)\u001B[0m\n\u001B[1;32m     68\u001B[0m             \u001B[0;31m# To get the full stack trace, call:\u001B[0m\u001B[0;34m\u001B[0m\u001B[0;34m\u001B[0m\u001B[0m\n\u001B[1;32m     69\u001B[0m             \u001B[0;31m# `tf.debugging.disable_traceback_filtering()`\u001B[0m\u001B[0;34m\u001B[0m\u001B[0;34m\u001B[0m\u001B[0m\n\u001B[0;32m---> 70\u001B[0;31m             \u001B[0;32mraise\u001B[0m \u001B[0me\u001B[0m\u001B[0;34m.\u001B[0m\u001B[0mwith_traceback\u001B[0m\u001B[0;34m(\u001B[0m\u001B[0mfiltered_tb\u001B[0m\u001B[0;34m)\u001B[0m \u001B[0;32mfrom\u001B[0m \u001B[0;32mNone\u001B[0m\u001B[0;34m\u001B[0m\u001B[0;34m\u001B[0m\u001B[0m\n\u001B[0m\u001B[1;32m     71\u001B[0m         \u001B[0;32mfinally\u001B[0m\u001B[0;34m:\u001B[0m\u001B[0;34m\u001B[0m\u001B[0;34m\u001B[0m\u001B[0m\n\u001B[1;32m     72\u001B[0m             \u001B[0;32mdel\u001B[0m \u001B[0mfiltered_tb\u001B[0m\u001B[0;34m\u001B[0m\u001B[0;34m\u001B[0m\u001B[0m\n",
      "\u001B[0;32m/usr/local/lib/python3.10/dist-packages/keras/src/backend.py\u001B[0m in \u001B[0;36mndim\u001B[0;34m(x)\u001B[0m\n\u001B[1;32m   1563\u001B[0m \u001B[0;34m\u001B[0m\u001B[0m\n\u001B[1;32m   1564\u001B[0m     \"\"\"\n\u001B[0;32m-> 1565\u001B[0;31m     \u001B[0;32mreturn\u001B[0m \u001B[0mx\u001B[0m\u001B[0;34m.\u001B[0m\u001B[0mshape\u001B[0m\u001B[0;34m.\u001B[0m\u001B[0mrank\u001B[0m\u001B[0;34m\u001B[0m\u001B[0;34m\u001B[0m\u001B[0m\n\u001B[0m\u001B[1;32m   1566\u001B[0m \u001B[0;34m\u001B[0m\u001B[0m\n\u001B[1;32m   1567\u001B[0m \u001B[0;34m\u001B[0m\u001B[0m\n",
      "\u001B[0;31mAttributeError\u001B[0m: Exception encountered when calling layer 'concatenate_14' (type Concatenate).\n\n'tuple' object has no attribute 'rank'\n\nCall arguments received by layer 'concatenate_14' (type Concatenate):\n  • inputs=['0    39.0\\nName: Age, dtype: float64', '0    0.0\\nName: RoomService, dtype: float64', '0    0.0\\nName: FoodCourt, dtype: float64', '0    0.0\\nName: ShoppingMall, dtype: float64', '0    0.0\\nName: Spa, dtype: float64', '0    0.0\\nName: VRDeck, dtype: float64']"
     ]
    }
   ]
  },
  {
   "cell_type": "markdown",
   "source": [
    "## Models"
   ],
   "metadata": {
    "id": "pObzaESIjtZw"
   }
  },
  {
   "cell_type": "markdown",
   "source": [
    "### model_0 Base model"
   ],
   "metadata": {
    "id": "MsRUB6hpENAU"
   }
  },
  {
   "cell_type": "code",
   "source": [
    "base_model = tf.keras.Sequential([\n",
    "    tf.keras.layers.Dense(16, activation=\"relu\"),\n",
    "    tf.keras.layers.Dense(32, activation=\"relu\"),\n",
    "    tf.keras.layers.Dense(64, activation=\"relu\"),\n",
    "])\n",
    "\n",
    "classification = tf.keras.layers.Dense(1, activation=\"sigmoid\")\n",
    "\n",
    "input = complete_preprocessing()\n"
   ],
   "metadata": {
    "colab": {
     "base_uri": "https://localhost:8080/"
    },
    "id": "XBGnb_RZEP9G",
    "outputId": "8f0cbdef-51b9-4147-887b-90e40a9331c9"
   },
   "execution_count": null,
   "outputs": [
    {
     "output_type": "stream",
     "name": "stdout",
     "text": [
      "Model: \"sequential_5\"\n",
      "_________________________________________________________________\n",
      " Layer (type)                Output Shape              Param #   \n",
      "=================================================================\n",
      " dense_20 (Dense)            (None, 32)                480       \n",
      "                                                                 \n",
      " dense_21 (Dense)            (None, 64)                2112      \n",
      "                                                                 \n",
      " dense_22 (Dense)            (None, 128)               8320      \n",
      "                                                                 \n",
      " dense_23 (Dense)            (None, 1)                 129       \n",
      "                                                                 \n",
      "=================================================================\n",
      "Total params: 11041 (43.13 KB)\n",
      "Trainable params: 11041 (43.13 KB)\n",
      "Non-trainable params: 0 (0.00 Byte)\n",
      "_________________________________________________________________\n"
     ]
    }
   ]
  },
  {
   "cell_type": "code",
   "source": [
    "history_0 =model_0.fit(\n",
    "    train_data,\n",
    "    validation_data=(valid_x, valid_y),\n",
    "    epochs=50\n",
    ")"
   ],
   "metadata": {
    "id": "5eEipPgKFKXJ"
   },
   "execution_count": null,
   "outputs": []
  },
  {
   "cell_type": "code",
   "source": [
    "plot_loss_curves(history_0)"
   ],
   "metadata": {
    "colab": {
     "base_uri": "https://localhost:8080/",
     "height": 927
    },
    "id": "aaS4TCh1G-P_",
    "outputId": "ad809b04-d76b-42ee-d603-f58be8520fd1"
   },
   "execution_count": null,
   "outputs": [
    {
     "output_type": "display_data",
     "data": {
      "text/plain": [
       "<Figure size 640x480 with 1 Axes>"
      ],
      "image/png": "[encoded data removed]"
     },
     "metadata": {}
    },
    {
     "output_type": "display_data",
     "data": {
      "text/plain": [
       "<Figure size 640x480 with 1 Axes>"
      ],
      "image/png": "[encoded data removed]"
     },
     "metadata": {}
    }
   ]
  },
  {
   "cell_type": "code",
   "source": [
    "model_0.evaluate(valid_x, valid_y)"
   ],
   "metadata": {
    "colab": {
     "base_uri": "https://localhost:8080/"
    },
    "id": "GIQaHN2zHZCu",
    "outputId": "59f70ea0-d769-4769-b780-344e6d30ec84"
   },
   "execution_count": null,
   "outputs": [
    {
     "output_type": "stream",
     "name": "stdout",
     "text": [
      "55/55 [==============================] - 0s 3ms/step - loss: 0.4745 - accuracy: 0.7936\n"
     ]
    },
    {
     "output_type": "execute_result",
     "data": {
      "text/plain": [
       "[0.47453010082244873, 0.7935594916343689]"
      ]
     },
     "metadata": {},
     "execution_count": 159
    }
   ]
  }
 ],
 "metadata": {
  "colab": {
   "provenance": []
  },
  "kernelspec": {
   "display_name": "Python 3",
   "name": "python3"
  },
  "language_info": {
   "name": "python"
  }
 },
 "nbformat": 4,
 "nbformat_minor": 0
}
